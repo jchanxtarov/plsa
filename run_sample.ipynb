{
 "metadata": {
  "language_info": {
   "codemirror_mode": {
    "name": "ipython",
    "version": 3
   },
   "file_extension": ".py",
   "mimetype": "text/x-python",
   "name": "python",
   "nbconvert_exporter": "python",
   "pygments_lexer": "ipython3",
   "version": "3.8.2"
  },
  "orig_nbformat": 2,
  "kernelspec": {
   "name": "python3",
   "display_name": "Python 3.8.2 64-bit ('3.8.2': pyenv)",
   "metadata": {
    "interpreter": {
     "hash": "3b18aa21486449787bdc1ce442e5077f65ec205b5b8dfc084904d90f0bad9932"
    }
   }
  }
 },
 "nbformat": 4,
 "nbformat_minor": 2,
 "cells": [
  {
   "cell_type": "code",
   "execution_count": 1,
   "metadata": {},
   "outputs": [],
   "source": [
    "import pandas as pd\n",
    "import numpy as n\n",
    "\n",
    "from model.taro_plsa import PLSA\n",
    "from model.taro_lda import LDA"
   ]
  },
  {
   "cell_type": "code",
   "execution_count": 2,
   "metadata": {},
   "outputs": [
    {
     "output_type": "execute_result",
     "data": {
      "text/plain": [
       "   userid  itemid\n",
       "0       0       0\n",
       "1       0      18\n",
       "2       0      22\n",
       "3       0      34\n",
       "4       0      36"
      ],
      "text/html": "<div>\n<style scoped>\n    .dataframe tbody tr th:only-of-type {\n        vertical-align: middle;\n    }\n\n    .dataframe tbody tr th {\n        vertical-align: top;\n    }\n\n    .dataframe thead th {\n        text-align: right;\n    }\n</style>\n<table border=\"1\" class=\"dataframe\">\n  <thead>\n    <tr style=\"text-align: right;\">\n      <th></th>\n      <th>userid</th>\n      <th>itemid</th>\n    </tr>\n  </thead>\n  <tbody>\n    <tr>\n      <th>0</th>\n      <td>0</td>\n      <td>0</td>\n    </tr>\n    <tr>\n      <th>1</th>\n      <td>0</td>\n      <td>18</td>\n    </tr>\n    <tr>\n      <th>2</th>\n      <td>0</td>\n      <td>22</td>\n    </tr>\n    <tr>\n      <th>3</th>\n      <td>0</td>\n      <td>34</td>\n    </tr>\n    <tr>\n      <th>4</th>\n      <td>0</td>\n      <td>36</td>\n    </tr>\n  </tbody>\n</table>\n</div>"
     },
     "metadata": {},
     "execution_count": 2
    }
   ],
   "source": [
    "path_datasets = 'data/'\n",
    "df_transaction = pd.read_csv(path_datasets + 'sample_transaction.csv')\n",
    "df_transaction.head()"
   ]
  },
  {
   "cell_type": "code",
   "execution_count": 3,
   "metadata": {},
   "outputs": [],
   "source": [
    "users = list(df_transaction['userid'])\n",
    "items = list(df_transaction['itemid'])"
   ]
  },
  {
   "cell_type": "code",
   "execution_count": 4,
   "metadata": {},
   "outputs": [],
   "source": [
    "# plese remove here, if you've already remap userid and itemid.\n",
    "\n",
    "# remap userid\n",
    "list_uniq_users = sorted(set(users))\n",
    "list_new_userid = list(range(len(list_uniq_users)))\n",
    "dict_remap_userid_old_new = {\n",
    "    list_uniq_users[i]:list_new_userid[i]\n",
    "    for i in range(len(list_new_userid))\n",
    "}\n",
    "\n",
    "# remap itemid\n",
    "list_items = list(df_transaction['itemid'])\n",
    "list_uniq_items = sorted(set(items))\n",
    "list_new_itemid = list(range(len(list_uniq_items)))\n",
    "dict_remap_itemid_old_new = {\n",
    "    list_uniq_items[i]:list_new_itemid[i]\n",
    "    for i in range(len(list_new_itemid))\n",
    "}\n",
    "\n",
    "users = [dict_remap_userid_old_new[userid] for userid in users]\n",
    "items = [dict_remap_itemid_old_new[itemid] for itemid in items]"
   ]
  },
  {
   "cell_type": "code",
   "execution_count": 5,
   "metadata": {},
   "outputs": [
    {
     "output_type": "stream",
     "name": "stdout",
     "text": [
      "n_data: 573044 | n_users: 23779 | n_items: 863 |             n_classes: 3\n"
     ]
    },
    {
     "output_type": "display_data",
     "data": {
      "text/plain": "training plsa:   0%|          | 0/3 [00:00<?, ?it/s]",
      "application/vnd.jupyter.widget-view+json": {
       "version_major": 2,
       "version_minor": 0,
       "model_id": "5b664b72888c42bc87e921b8314d9a63"
      }
     },
     "metadata": {}
    },
    {
     "output_type": "stream",
     "name": "stdout",
     "text": [
      " - EM: 1 | llh : -9030746.031368982 | ratio : 91.30746031368982\n",
      " - EM: 2 | llh : -9024818.86504222 | ratio : 0.0006563318585389051\n",
      " - EM: 3 | llh : -9020676.40412145 | ratio : 0.00045900765242142113\n"
     ]
    }
   ],
   "source": [
    "K = 3\n",
    "plsa = PLSA(users, items, K, 3)\n",
    "plsa.train()"
   ]
  },
  {
   "cell_type": "code",
   "execution_count": 6,
   "metadata": {
    "tags": []
   },
   "outputs": [
    {
     "output_type": "stream",
     "name": "stdout",
     "text": [
      "n_data: 573044 | n_users: 23779 | n_items: 863 |             n_topics: 3\n"
     ]
    },
    {
     "output_type": "display_data",
     "data": {
      "text/plain": "  0%|          | 0/3 [00:00<?, ?it/s]",
      "application/vnd.jupyter.widget-view+json": {
       "version_major": 2,
       "version_minor": 0,
       "model_id": "f48b2ea2e6ab4e69b9a44a5286a23028"
      }
     },
     "metadata": {}
    },
    {
     "output_type": "stream",
     "name": "stdout",
     "text": [
      " - iter : 1 | perplexity : 401.83936021985454 | ratio : 0.9959816063978015 |                 count : 0\n",
      " - iter : 2 | perplexity : 401.5144566950192 | ratio : 0.0008085408175485546 |                 count : 0\n",
      " - iter : 3 | perplexity : 400.8342100231232 | ratio : 0.001694202190116122 |                 count : 0\n",
      "finish training! | perplexity : 400.8342100231232 | pz : [0.33204724 0.33689534 0.33105742]\n"
     ]
    }
   ],
   "source": [
    "K = 3\n",
    "lda = LDA(users, items, K, 3)\n",
    "lda.train()"
   ]
  },
  {
   "cell_type": "code",
   "execution_count": null,
   "metadata": {},
   "outputs": [],
   "source": []
  }
 ]
}