{
 "metadata": {
  "language_info": {
   "codemirror_mode": {
    "name": "ipython",
    "version": 3
   },
   "file_extension": ".py",
   "mimetype": "text/x-python",
   "name": "python",
   "nbconvert_exporter": "python",
   "pygments_lexer": "ipython3",
   "version": "3.8.2-final"
  },
  "orig_nbformat": 2,
  "kernelspec": {
   "name": "python3",
   "display_name": "Python 3.8.2 64-bit ('3.8.2')",
   "metadata": {
    "interpreter": {
     "hash": "3b18aa21486449787bdc1ce442e5077f65ec205b5b8dfc084904d90f0bad9932"
    }
   }
  }
 },
 "nbformat": 4,
 "nbformat_minor": 2,
 "cells": [
  {
   "cell_type": "code",
   "execution_count": 1,
   "metadata": {},
   "outputs": [],
   "source": [
    "import pandas as pd\n",
    "import numpy as n\n",
    "from model.taro_plsa import PLSA"
   ]
  },
  {
   "cell_type": "code",
   "execution_count": 2,
   "metadata": {},
   "outputs": [
    {
     "output_type": "execute_result",
     "data": {
      "text/plain": [
       "   userid  itemid\n",
       "0       0       0\n",
       "1       0      18\n",
       "2       0      22\n",
       "3       0      34\n",
       "4       0      36"
      ],
      "text/html": "<div>\n<style scoped>\n    .dataframe tbody tr th:only-of-type {\n        vertical-align: middle;\n    }\n\n    .dataframe tbody tr th {\n        vertical-align: top;\n    }\n\n    .dataframe thead th {\n        text-align: right;\n    }\n</style>\n<table border=\"1\" class=\"dataframe\">\n  <thead>\n    <tr style=\"text-align: right;\">\n      <th></th>\n      <th>userid</th>\n      <th>itemid</th>\n    </tr>\n  </thead>\n  <tbody>\n    <tr>\n      <th>0</th>\n      <td>0</td>\n      <td>0</td>\n    </tr>\n    <tr>\n      <th>1</th>\n      <td>0</td>\n      <td>18</td>\n    </tr>\n    <tr>\n      <th>2</th>\n      <td>0</td>\n      <td>22</td>\n    </tr>\n    <tr>\n      <th>3</th>\n      <td>0</td>\n      <td>34</td>\n    </tr>\n    <tr>\n      <th>4</th>\n      <td>0</td>\n      <td>36</td>\n    </tr>\n  </tbody>\n</table>\n</div>"
     },
     "metadata": {},
     "execution_count": 2
    }
   ],
   "source": [
    "path_datasets = 'data/'\n",
    "df_transaction = pd.read_csv(path_datasets + 'sample_transaction.csv')\n",
    "df_transaction.head()"
   ]
  },
  {
   "cell_type": "code",
   "execution_count": 3,
   "metadata": {},
   "outputs": [],
   "source": [
    "users = list(df_transaction['userid'])\n",
    "items = list(df_transaction['itemid'])"
   ]
  },
  {
   "cell_type": "code",
   "execution_count": 4,
   "metadata": {},
   "outputs": [],
   "source": [
    "# plese remove here, if you've already remap userid and itemid.\n",
    "\n",
    "# remap userid\n",
    "list_uniq_users = sorted(set(users))\n",
    "list_new_userid = list(range(len(list_uniq_users)))\n",
    "dict_remap_userid_old_new = {\n",
    "    list_uniq_users[i]:list_new_userid[i]\n",
    "    for i in range(len(list_new_userid))\n",
    "}\n",
    "# dict_remap_userid_new_old = {\n",
    "#     list_new_userid[i]:list_uniq_users[i]\n",
    "#     for i in range(len(list_new_userid))\n",
    "# } # plese use for result analysis\n",
    "\n",
    "# remap itemid\n",
    "list_items = list(df_transaction['itemid'])\n",
    "list_uniq_items = sorted(set(items))\n",
    "list_new_itemid = list(range(len(list_uniq_items)))\n",
    "dict_remap_itemid_old_new = {\n",
    "    list_uniq_items[i]:list_new_itemid[i]\n",
    "    for i in range(len(list_new_itemid))\n",
    "}\n",
    "# dict_remap_itemid_new_old = {\n",
    "#     list_new_itemid[i]:list_uniq_items[i]\n",
    "#     for i in range(len(list_new_itemid))\n",
    "# } # plese use for result analysis\n",
    "\n",
    "users = [dict_remap_userid_old_new[userid] for userid in users]\n",
    "items = [dict_remap_itemid_old_new[itemid] for itemid in items]"
   ]
  },
  {
   "cell_type": "code",
   "execution_count": 6,
   "metadata": {},
   "outputs": [
    {
     "output_type": "display_data",
     "data": {
      "text/plain": "training plsa:   0%|          | 0/10 [00:00<?, ?it/s]",
      "application/vnd.jupyter.widget-view+json": {
       "version_major": 2,
       "version_minor": 0,
       "model_id": "11f04b7561ac4c69ad29e9046ccc1697"
      }
     },
     "metadata": {}
    }
   ],
   "source": [
    "K = 5\n",
    "plsa = PLSA(users, items, K, 10)\n",
    "plsa.train()"
   ]
  },
  {
   "cell_type": "code",
   "execution_count": null,
   "metadata": {},
   "outputs": [],
   "source": [
    "# TODO: add sample result analysis"
   ]
  }
 ]
}